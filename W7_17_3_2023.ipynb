{
  "nbformat": 4,
  "nbformat_minor": 0,
  "metadata": {
    "colab": {
      "provenance": [],
      "authorship_tag": "ABX9TyNqlZFN/6jucskSn9AZE7cD",
      "include_colab_link": true
    },
    "kernelspec": {
      "name": "python3",
      "display_name": "Python 3"
    },
    "language_info": {
      "name": "python"
    }
  },
  "cells": [
    {
      "cell_type": "markdown",
      "metadata": {
        "id": "view-in-github",
        "colab_type": "text"
      },
      "source": [
        "<a href=\"https://colab.research.google.com/github/DangPhan23/AI_W7_17_3_2023/blob/main/W7_17_3_2023.ipynb\" target=\"_parent\"><img src=\"https://colab.research.google.com/assets/colab-badge.svg\" alt=\"Open In Colab\"/></a>"
      ]
    },
    {
      "cell_type": "code",
      "execution_count": null,
      "metadata": {
        "id": "Vo00iwkyMWyV"
      },
      "outputs": [],
      "source": [
        "import pandas as pd\n",
        "url='/content/mtcars.csv'\n",
        "data=pd.read_csv(url)\n",
        "data.head()"
      ]
    },
    {
      "cell_type": "code",
      "source": [
        "import seaborn as sns\n",
        "import matplotlib.pyplot as plt\n",
        "data.hist()\n",
        "plt.show()"
      ],
      "metadata": {
        "id": "NhS7EFB-M0Nn"
      },
      "execution_count": null,
      "outputs": []
    },
    {
      "cell_type": "code",
      "source": [
        "correlation = data.corr()\n",
        "print(correlation)"
      ],
      "metadata": {
        "id": "iywjvYVLOoyG"
      },
      "execution_count": null,
      "outputs": []
    },
    {
      "cell_type": "code",
      "source": [
        "sns.pairplot(data)\n",
        "sns.heatmap(correlation,annot=True)"
      ],
      "metadata": {
        "id": "5nZdANOMO9sw"
      },
      "execution_count": null,
      "outputs": []
    },
    {
      "cell_type": "code",
      "source": [
        "data.plot(kind='scatter',x='wt',y='mpg',figsize=(9,9),color='black')"
      ],
      "metadata": {
        "id": "l3CMlyTFPmQB"
      },
      "execution_count": null,
      "outputs": []
    },
    {
      "cell_type": "code",
      "source": [
        "from sklearn import linear_model\n",
        "model =linear_model.LinearRegression()\n",
        "X = pd.DataFrame(data['wt'])\n",
        "y=data['mpg']\n",
        "model.fit(X,y)\n",
        "print('Gia tri Intercept la:',model.intercept_)\n",
        "print('Gia tri Coeffient la:',model.coef_)\n",
        "model.score(X,y)"
      ],
      "metadata": {
        "id": "G1_3WwR-QFU8"
      },
      "execution_count": null,
      "outputs": []
    },
    {
      "cell_type": "code",
      "source": [
        "data.plot(kind='scatter',x='wt',y='mpg',figsize=(9,9),color='black')\n",
        "y_pred=model.predict(X)\n",
        "plt.plot(data['wt'],y_pred,color='blue')"
      ],
      "metadata": {
        "id": "ogQEThw1UH0G"
      },
      "execution_count": null,
      "outputs": []
    },
    {
      "cell_type": "code",
      "source": [
        "model=linear_model.LinearRegression()\n",
        "X=pd.DataFrame([data['wt'],data['wt']**2]).T\n",
        "y=data['mpg']\n",
        "model.fit(X,y)\n",
        "print('He so Intercept la:',model.intercept_)\n",
        "print('He so coneffient la:',model.coef_)\n",
        "print('Do chinh xac cua mo hinh la:',model.score(X,y))"
      ],
      "metadata": {
        "id": "uPMdrnBIUZat"
      },
      "execution_count": null,
      "outputs": []
    },
    {
      "cell_type": "code",
      "source": [
        "import numpy as np\n",
        "range=np.arange(1.5,5.5,0.1)\n",
        "X_range=pd.DataFrame([range,range**2]).T\n",
        "y_pred=model.predict(X_range)\n",
        "data.plot(kind='scatter',x='wt',y='mpg',figsize=(9,9),color='black',xlim=(0,7))\n",
        "plt.plot(range,y_pred,color='blue')"
      ],
      "metadata": {
        "id": "DLkf7W88a6NQ"
      },
      "execution_count": null,
      "outputs": []
    },
    {
      "cell_type": "code",
      "source": [
        "import numpy as np\n",
        "range=np.arange(2.3,6.5,0.1)\n",
        "X_range=pd.DataFrame([range,range**3]).T\n",
        "y_pred=model.predict(X_range)\n",
        "data.plot(kind='scatter',x='wt',y='mpg',figsize=(9,9),color='black',xlim=(0,7))\n",
        "plt.plot(range,y_pred,color='blue')"
      ],
      "metadata": {
        "id": "5hyupXRjbQAv"
      },
      "execution_count": null,
      "outputs": []
    }
  ]
}